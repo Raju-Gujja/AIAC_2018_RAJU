{
  "nbformat": 4,
  "nbformat_minor": 0,
  "metadata": {
    "colab": {
      "provenance": [],
      "authorship_tag": "ABX9TyNP+GE0iPdqsp8jFst9UiEI",
      "include_colab_link": true
    },
    "kernelspec": {
      "name": "python3",
      "display_name": "Python 3"
    },
    "language_info": {
      "name": "python"
    }
  },
  "cells": [
    {
      "cell_type": "markdown",
      "metadata": {
        "id": "view-in-github",
        "colab_type": "text"
      },
      "source": [
        "<a href=\"https://colab.research.google.com/github/Raju-Gujja/AIAC_2018_RAJU/blob/main/Untitled11.ipynb\" target=\"_parent\"><img src=\"https://colab.research.google.com/assets/colab-badge.svg\" alt=\"Open In Colab\"/></a>"
      ]
    },
    {
      "cell_type": "code",
      "execution_count": null,
      "metadata": {
        "id": "AsmigkK24ysl"
      },
      "outputs": [],
      "source": []
    },
    {
      "cell_type": "code",
      "metadata": {
        "colab": {
          "base_uri": "https://localhost:8080/"
        },
        "id": "f7db0cd0",
        "outputId": "da585ef3-b673-4f8b-ec86-db61111ae291"
      },
      "source": [
        "def sum_even_odd(numbers):\n",
        "  \"\"\"\n",
        "  Calculates the sum of even and odd numbers in a list.\n",
        "\n",
        "  Args:\n",
        "    numbers: A list of numbers.\n",
        "\n",
        "  Returns:\n",
        "    A tuple containing the sum of even numbers and the sum of odd numbers.\n",
        "  \"\"\"\n",
        "  even_sum = 0\n",
        "  odd_sum = 0\n",
        "  for number in numbers:\n",
        "    if number % 2 == 0:\n",
        "      even_sum += number\n",
        "    else:\n",
        "      odd_sum += number\n",
        "  return even_sum, odd_sum\n",
        "\n",
        "# Example usage:\n",
        "my_list = [1, 2, 3, 4, 5, 6, 7, 8, 9, 10]\n",
        "even_total, odd_total = sum_even_odd(my_list)\n",
        "print(f\"Sum of even numbers: {even_total}\")\n",
        "print(f\"Sum of odd numbers: {odd_total}\")"
      ],
      "execution_count": 1,
      "outputs": [
        {
          "output_type": "stream",
          "name": "stdout",
          "text": [
            "Sum of even numbers: 30\n",
            "Sum of odd numbers: 25\n"
          ]
        }
      ]
    },
    {
      "cell_type": "markdown",
      "source": [
        "Observation :\n",
        "\n",
        "Manual docstrings allow more control over description, context, and clarity.\n",
        "\n",
        "AI-generated docstrings are often concise and syntactically correct but may miss some specifics unless the code is very clear.\n",
        "\n",
        "The comparison helped identify AI’s strength in quick generation and its limitations in deeper code understanding.\n",
        "\n",
        "This task enhanced my understanding of standard documentation styles and showed how AI can assist but still requires human review."
      ],
      "metadata": {
        "id": "SVyQ-31eCUKU"
      }
    },
    {
      "cell_type": "code",
      "source": [],
      "metadata": {
        "id": "ZWf2LvFcCaCd"
      },
      "execution_count": null,
      "outputs": []
    },
    {
      "cell_type": "code",
      "metadata": {
        "id": "f892d3c0"
      },
      "source": [
        "class sru_student:\n",
        "    # Represents a student at SRU.\n",
        "    def __init__(self, name, roll_no, hostel_status):\n",
        "        # Initializes a new sru_student object.\n",
        "        # Args:\n",
        "        #   name: The student's name.\n",
        "        #   roll_no: The student's roll number.\n",
        "        #   hostel_status: The student's hostel status (e.g., \"Day Scholar\", \"Hosteller\").\n",
        "        self.name = name\n",
        "        self.roll_no = roll_no\n",
        "        self.hostel_status = hostel_status\n",
        "        self.fee_paid = 0  # Initialize fee_paid to 0\n",
        "\n",
        "    def fee_update(self, amount):\n",
        "        # Updates the fee paid for the student.\n",
        "        # Args:\n",
        "        #   amount: The amount of fee paid.\n",
        "        self.fee_paid += amount\n",
        "\n",
        "    def display_details(self):\n",
        "        # Displays the details of the student.\n",
        "        print(f\"Name: {self.name}\")\n",
        "        print(f\"Roll No.: {self.roll_no}\")\n",
        "        print(f\"Hostel Status: {self.hostel_status}\")\n",
        "        print(f\"Fee Paid: {self.fee_paid}\")"
      ],
      "execution_count": 3,
      "outputs": []
    },
    {
      "cell_type": "code",
      "metadata": {
        "id": "3264e198"
      },
      "source": [
        "class sru_student:\n",
        "    def __init__(self, name, roll_no, hostel_status):\n",
        "        self.name = name\n",
        "        self.roll_no = roll_no\n",
        "        self.hostel_status = hostel_status\n",
        "        self.fee_paid = 0\n",
        "\n",
        "    def fee_update(self, amount):\n",
        "        self.fee_paid += amount\n",
        "\n",
        "    def display_details(self):\n",
        "        print(f\"Name: {self.name}\")\n",
        "        print(f\"Roll No.: {self.roll_no}\")\n",
        "        print(f\"Hostel Status: {self.hostel_status}\")\n",
        "        print(f\"Fee Paid: {self.fee_paid}\")"
      ],
      "execution_count": 2,
      "outputs": []
    },
    {
      "cell_type": "markdown",
      "source": [
        "Observation:\n",
        "\n",
        "Manually written comments were specific and tailored to the logic and intent of the code.\n",
        "\n",
        "AI-generated inline comments were mostly accurate and explained basic syntax and purpose clearly.\n",
        "\n",
        "However, AI sometimes added redundant or too generic comments.\n",
        "\n",
        "This task helped me evaluate the clarity of my own comments and understand where AI assistance is helpful for beginners or repetitive tasks."
      ],
      "metadata": {
        "id": "XTk6pQViCpM7"
      }
    },
    {
      "cell_type": "code",
      "source": [],
      "metadata": {
        "id": "09M_iJ5NCtBm"
      },
      "execution_count": null,
      "outputs": []
    },
    {
      "cell_type": "code",
      "metadata": {
        "colab": {
          "base_uri": "https://localhost:8080/"
        },
        "id": "d1fa9aa5",
        "outputId": "d8d3f814-df92-449b-fd47-9112806d4c05"
      },
      "source": [
        "\"\"\"\n",
        "This module provides basic arithmetic operations: addition, subtraction,\n",
        "multiplication, and division.\n",
        "\"\"\"\n",
        "\n",
        "def add(a, b):\n",
        "  \"\"\"\n",
        "  Adds two numbers.\n",
        "\n",
        "  Args:\n",
        "    a: The first number.\n",
        "    b: The second number.\n",
        "\n",
        "  Returns:\n",
        "    The sum of a and b.\n",
        "  \"\"\"\n",
        "  return a + b\n",
        "\n",
        "def subtract(a, b):\n",
        "  \"\"\"\n",
        "  Subtracts the second number from the first.\n",
        "\n",
        "  Args:\n",
        "    a: The first number.\n",
        "    b: The second number.\n",
        "\n",
        "  Returns:\n",
        "    The difference between a and b.\n",
        "  \"\"\"\n",
        "  return a - b\n",
        "\n",
        "def multiply(a, b):\n",
        "  \"\"\"\n",
        "  Multiplies two numbers.\n",
        "\n",
        "  Args:\n",
        "    a: The first number.\n",
        "    b: The second number.\n",
        "\n",
        "  Returns:\n",
        "    The product of a and b.\n",
        "  \"\"\"\n",
        "  return a * b\n",
        "\n",
        "def divide(a, b):\n",
        "  \"\"\"\n",
        "  Divides the first number by the second.\n",
        "\n",
        "  Args:\n",
        "    a: The first number (dividend).\n",
        "    b: The second number (divisor).\n",
        "\n",
        "  Returns:\n",
        "    The result of the division.\n",
        "\n",
        "  Raises:\n",
        "    ValueError: If the divisor (b) is zero.\n",
        "  \"\"\"\n",
        "  if b == 0:\n",
        "    raise ValueError(\"Cannot divide by zero.\")\n",
        "  return a / b\n",
        "\n",
        "# Example usage:\n",
        "num1 = 10\n",
        "num2 = 5\n",
        "\n",
        "print(f\"{num1} + {num2} = {add(num1, num2)}\")\n",
        "print(f\"{num1} - {num2} = {subtract(num1, num2)}\")\n",
        "print(f\"{num1} * {num2} = {multiply(num1, num2)}\")\n",
        "print(f\"{num1} / {num2} = {divide(num1, num2)}\")\n",
        "\n",
        "# Example of division by zero (will raise an error):\n",
        "# print(f\"{num1} / 0 = {divide(num1, 0)}\")"
      ],
      "execution_count": 4,
      "outputs": [
        {
          "output_type": "stream",
          "name": "stdout",
          "text": [
            "10 + 5 = 15\n",
            "10 - 5 = 5\n",
            "10 * 5 = 50\n",
            "10 / 5 = 2.0\n"
          ]
        }
      ]
    },
    {
      "cell_type": "markdown",
      "source": [
        "Observation : The use of NumPy-style docstrings provides clear and structured documentation for each function, making the code easier to understand and use. The example usage effectively demonstrates the functionality and the inclusion of error handling makes the divide function robust. This structure is good practice for creating reusable and well-documented code."
      ],
      "metadata": {
        "id": "QRW44t5dC0v0"
      }
    }
  ]
}
