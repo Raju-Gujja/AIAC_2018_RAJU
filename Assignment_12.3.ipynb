{
  "nbformat": 4,
  "nbformat_minor": 0,
  "metadata": {
    "colab": {
      "provenance": [],
      "authorship_tag": "ABX9TyPUPXsSupKQT/H8frTtGORT",
      "include_colab_link": true
    },
    "kernelspec": {
      "name": "python3",
      "display_name": "Python 3"
    },
    "language_info": {
      "name": "python"
    }
  },
  "cells": [
    {
      "cell_type": "markdown",
      "metadata": {
        "id": "view-in-github",
        "colab_type": "text"
      },
      "source": [
        "<a href=\"https://colab.research.google.com/github/Raju-Gujja/AIAC_2018_RAJU/blob/main/Assignment_12.3.ipynb\" target=\"_parent\"><img src=\"https://colab.research.google.com/assets/colab-badge.svg\" alt=\"Open In Colab\"/></a>"
      ]
    },
    {
      "cell_type": "markdown",
      "source": [
        "1.) PROMPT : Write a Python program that defines a function linear_search() which takes a list and a value to search for, and returns the index of the value if it is found, otherwise returns -1. The program should also ask the user to enter the list elements and the value to search, and then display the result"
      ],
      "metadata": {
        "id": "zvWQdMwHA9bK"
      }
    },
    {
      "cell_type": "code",
      "metadata": {
        "colab": {
          "base_uri": "https://localhost:8080/"
        },
        "id": "e6aac13c",
        "outputId": "12bbf8e1-9152-42c5-ac45-400bb48e6f2b"
      },
      "source": [
        "def linear_search(input_list, search_value):\n",
        "  \"\"\"\n",
        "  Performs linear search on a list.\n",
        "\n",
        "  Args:\n",
        "    input_list: The list to search within.\n",
        "    search_value: The value to search for.\n",
        "\n",
        "  Returns:\n",
        "    The index of the search_value if found, otherwise -1.\n",
        "  \"\"\"\n",
        "  for i in range(len(input_list)):\n",
        "    if input_list[i] == search_value:\n",
        "      return i\n",
        "  return -1\n",
        "\n",
        "# Get list input from the user\n",
        "list_str = input(\"Enter the list elements separated by commas or spaces: \")\n",
        "# Split by comma, then strip whitespace from each element and convert to int\n",
        "my_list = [int(x.strip()) for x in list_str.replace(' ', '').split(',')]\n",
        "\n",
        "# Get search value input from the user\n",
        "search_val = int(input(\"Enter the value to search for: \"))\n",
        "\n",
        "# Perform linear search and display the result\n",
        "index = linear_search(my_list, search_val)\n",
        "\n",
        "if index != -1:\n",
        "  print(f\"Value {search_val} found at index: {index}\")\n",
        "else:\n",
        "  print(f\"Value {search_val} not found in the list.\")"
      ],
      "execution_count": null,
      "outputs": [
        {
          "output_type": "stream",
          "name": "stdout",
          "text": [
            "Enter the list elements separated by commas or spaces: 1,2,3,4\n",
            "Enter the value to search for: 2\n",
            "Value 2 found at index: 1\n"
          ]
        }
      ]
    },
    {
      "cell_type": "markdown",
      "source": [
        "Explanation : This code performs a linear search on a list provided by the user. It takes input as a comma-separated string of numbers, converts it into a list of integers, and searches for a specified value using a loop. If the value is found, it returns its index; otherwise, it returns -1. The result is then displayed to the user."
      ],
      "metadata": {
        "id": "2eNpALFJBx3m"
      }
    },
    {
      "cell_type": "markdown",
      "source": [
        "2.) prompt: Write a Python program that implements the Bubble Sort algorithm to sort a list of numbers entered by the user. After sorting, display the sorted list as the output"
      ],
      "metadata": {
        "id": "FZpOJI7kCTy_"
      }
    },
    {
      "cell_type": "code",
      "metadata": {
        "id": "457356e7",
        "colab": {
          "base_uri": "https://localhost:8080/"
        },
        "outputId": "ece60538-9b99-492d-aa65-5061fb1611c9"
      },
      "source": [
        "def bubble_sort(input_list):\n",
        "  \"\"\"\n",
        "  Sorts a list using the Bubble Sort algorithm.\n",
        "\n",
        "  Args:\n",
        "    input_list: The list to be sorted.\n",
        "  \"\"\"\n",
        "  n = len(input_list)\n",
        "  # Traverse through all list elements\n",
        "  for i in range(n):\n",
        "    # Last i elements are already in place\n",
        "    for j in range(0, n - i - 1):\n",
        "      # traverse the list from 0 to n-i-1\n",
        "      # Swap if the element found is greater than the next element\n",
        "      if input_list[j] > input_list[j + 1]:\n",
        "        input_list[j], input_list[j + 1] = input_list[j + 1], input_list[j]\n",
        "\n",
        "# Get list input from the user\n",
        "list_str = input(\"Enter the list elements separated by commas or spaces: \")\n",
        "# Split by comma, then strip whitespace from each element and convert to int\n",
        "my_list = [int(x.strip()) for x in list_str.replace(' ', '').split(',')]\n",
        "\n",
        "# Sort the list using bubble sort\n",
        "bubble_sort(my_list)\n",
        "\n",
        "# Display the sorted list\n",
        "print(\"Sorted list:\", my_list)"
      ],
      "execution_count": 3,
      "outputs": [
        {
          "output_type": "stream",
          "name": "stdout",
          "text": [
            "Enter the list elements separated by commas or spaces: 1 2 3 2 3 4 1 5\n",
            "Sorted list: [12323415]\n"
          ]
        }
      ]
    },
    {
      "cell_type": "markdown",
      "source": [
        "Explanation : This code implements the Bubble Sort algorithm to sort a list of numbers entered by the user. It compares adjacent elements and swaps them if they're in the wrong order, repeating this process until the entire list is sorted. The user inputs a comma-separated list of numbers, which is converted to integers, sorted using Bubble Sort, and then printed."
      ],
      "metadata": {
        "id": "ZHF_BFpiDjde"
      }
    },
    {
      "cell_type": "markdown",
      "source": [
        "3 . ) prompt : Write a Python program using linear optimization to maximize the profit of a chocolate manufacturing company that produces two types of chocolates, A and B.\n",
        "Each unit of A requires 1 unit of Milk and 3 units of Choco.\n",
        "Each unit of B requires 1 unit of Milk and 2 units of Choco.\n",
        "The company has a total of 5 units of Milk and 12 units of Choco.\n",
        "Profit for A is Rs 6 per unit, and profit for B is Rs 5 per unit.\n",
        "Find how many units of A and B should be produced to maximize profit"
      ],
      "metadata": {
        "id": "c9C82iJZDmOO"
      }
    },
    {
      "cell_type": "code",
      "metadata": {
        "colab": {
          "base_uri": "https://localhost:8080/"
        },
        "id": "7cb3431c",
        "outputId": "58face2c-5ed0-438a-fe5c-fcace409d05c"
      },
      "source": [
        "from scipy.optimize import linprog\n",
        "\n",
        "# Coefficients of the objective function to be maximized (profit)\n",
        "# Since linprog minimizes, we need to negate the profit coefficients\n",
        "c = [-6, -5] # -6 for A, -5 for B\n",
        "\n",
        "# Coefficients of the inequality constraints (resource limitations)\n",
        "# A requires 1 Milk, B requires 1 Milk, total Milk <= 5\n",
        "# A requires 3 Choco, B requires 2 Choco, total Choco <= 12\n",
        "A_ub = [[1, 1],\n",
        "        [3, 2]]\n",
        "\n",
        "# Right-hand side of the inequality constraints (available resources)\n",
        "b_ub = [5, 12]\n",
        "\n",
        "# Bounds for the variables (number of units produced cannot be negative)\n",
        "x0_bounds = (0, None) # Units of A >= 0\n",
        "x1_bounds = (0, None) # Units of B >= 0\n",
        "\n",
        "# Solve the linear programming problem\n",
        "result = linprog(c, A_ub=A_ub, b_ub=b_ub, bounds=[x0_bounds, x1_bounds], method='highs')\n",
        "\n",
        "# Display the results\n",
        "if result.success:\n",
        "    print(f\"Optimal units of Chocolate A to produce: {result.x[0]:.2f}\")\n",
        "    print(f\"Optimal units of Chocolate B to produce: {result.x[1]:.2f}\")\n",
        "    print(f\"Maximum profit: {-result.fun:.2f}\") # Negate the result.fun to get the maximum profit\n",
        "else:\n",
        "    print(\"Optimization failed.\")\n",
        "    print(result.message)"
      ],
      "execution_count": 4,
      "outputs": [
        {
          "output_type": "stream",
          "name": "stdout",
          "text": [
            "Optimal units of Chocolate A to produce: 2.00\n",
            "Optimal units of Chocolate B to produce: 3.00\n",
            "Maximum profit: 27.00\n"
          ]
        }
      ]
    },
    {
      "cell_type": "markdown",
      "source": [
        "Explanation : This code uses linear programming to maximize profit from producing two types of chocolates, A and B, under milk and chocolate constraints. It defines the profit and resource usage, and uses scipy.optimize.linprog to find the optimal production quantities. The solution displays how many units of each to produce and the maximum profit."
      ],
      "metadata": {
        "id": "l3CjOzAhEhOw"
      }
    },
    {
      "cell_type": "markdown",
      "source": [
        "4 .) prompt : Write a Python program to find the value of x at which the function f(x) = 2x³ + 4x + 5 reaches its minimum value. Use suitable optimization or calculus methods."
      ],
      "metadata": {
        "id": "pKs5gtkrE2le"
      }
    },
    {
      "cell_type": "code",
      "metadata": {
        "colab": {
          "base_uri": "https://localhost:8080/"
        },
        "id": "40b0c120",
        "outputId": "9a810558-f104-4635-f17c-5d7227707529"
      },
      "source": [
        "import sympy\n",
        "\n",
        "# Define the variable and the function\n",
        "x = sympy.symbols('x')\n",
        "f_x = 2*x**3 + 4*x + 5\n",
        "\n",
        "# Calculate the derivative of the function\n",
        "f_prime_x = sympy.diff(f_x, x)\n",
        "print(f\"The derivative of f(x) is: {f_prime_x}\")\n",
        "\n",
        "# Find the critical points by setting the derivative to zero\n",
        "critical_points = sympy.solve(f_prime_x, x)\n",
        "print(f\"Critical points (where f'(x) = 0): {critical_points}\")\n",
        "\n",
        "# Calculate the second derivative (for illustrative purposes, as it won't be used for comparison with complex points)\n",
        "f_double_prime_x = sympy.diff(f_prime_x, x)\n",
        "print(f\"The second derivative of f(x) is: {f_double_prime_x}\")\n",
        "\n",
        "# For this specific function (2x^3 + 4x + 5), the derivative 6x^2 + 4 is always positive,\n",
        "# meaning the function is always increasing and does not have local minima or maxima.\n",
        "# We can confirm this by checking the derivative's behavior.\n",
        "# Since 6x^2 is always non-negative and we add 4, the derivative is always positive.\n",
        "# Therefore, the function is strictly increasing and does not have a global minimum.\n",
        "print(\"\\nAnalysis:\")\n",
        "print(\"The derivative of the function is 6x^2 + 4.\")\n",
        "print(\"Since x^2 is always non-negative, 6x^2 is also always non-negative.\")\n",
        "print(\"Adding 4 to a non-negative number results in a positive number.\")\n",
        "print(\"Therefore, the derivative 6x^2 + 4 is always positive for all real values of x.\")\n",
        "print(\"A function with a strictly positive derivative is strictly increasing.\")\n",
        "print(\"A strictly increasing function does not have local minima or maxima.\")\n",
        "print(\"As x approaches negative infinity, f(x) approaches negative infinity.\")\n",
        "print(\"As x approaches positive infinity, f(x) approaches positive infinity.\")\n",
        "print(\"Thus, the function f(x) = 2x³ + 4x + 5 does not have a global minimum or maximum.\")"
      ],
      "execution_count": 6,
      "outputs": [
        {
          "output_type": "stream",
          "name": "stdout",
          "text": [
            "The derivative of f(x) is: 6*x**2 + 4\n",
            "Critical points (where f'(x) = 0): [-sqrt(6)*I/3, sqrt(6)*I/3]\n",
            "The second derivative of f(x) is: 12*x\n",
            "\n",
            "Analysis:\n",
            "The derivative of the function is 6x^2 + 4.\n",
            "Since x^2 is always non-negative, 6x^2 is also always non-negative.\n",
            "Adding 4 to a non-negative number results in a positive number.\n",
            "Therefore, the derivative 6x^2 + 4 is always positive for all real values of x.\n",
            "A function with a strictly positive derivative is strictly increasing.\n",
            "A strictly increasing function does not have local minima or maxima.\n",
            "As x approaches negative infinity, f(x) approaches negative infinity.\n",
            "As x approaches positive infinity, f(x) approaches positive infinity.\n",
            "Thus, the function f(x) = 2x³ + 4x + 5 does not have a global minimum or maximum.\n"
          ]
        }
      ]
    },
    {
      "cell_type": "markdown",
      "source": [
        "Explanation : This Python code uses symbolic differentiation to analyze the given function . It computes the first and second derivatives to find critical points and determine if the function has a minimum. Since the derivative 6x^2 + 4 is always positive, the function is strictly increasing and has no minimum or maximum for real values of x."
      ],
      "metadata": {
        "id": "OcypjvmiGsfm"
      }
    }
  ]
}