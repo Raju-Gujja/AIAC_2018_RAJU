{
  "nbformat": 4,
  "nbformat_minor": 0,
  "metadata": {
    "colab": {
      "provenance": [],
      "include_colab_link": true
    },
    "kernelspec": {
      "name": "python3",
      "display_name": "Python 3"
    },
    "language_info": {
      "name": "python"
    }
  },
  "cells": [
    {
      "cell_type": "markdown",
      "metadata": {
        "id": "view-in-github",
        "colab_type": "text"
      },
      "source": [
        "<a href=\"https://colab.research.google.com/github/Raju-Gujja/AIAC_2018_RAJU/blob/main/AIAC_ASSIGINMENT_11_3.ipynb\" target=\"_parent\"><img src=\"https://colab.research.google.com/assets/colab-badge.svg\" alt=\"Open In Colab\"/></a>"
      ]
    },
    {
      "cell_type": "markdown",
      "source": [
        "TEXT - 01"
      ],
      "metadata": {
        "id": "8-abVpZc7Kbc"
      }
    },
    {
      "cell_type": "code",
      "metadata": {
        "colab": {
          "base_uri": "https://localhost:8080/"
        },
        "id": "cacaed23",
        "outputId": "ada40dad-d9d9-4ce3-8c72-7887ff7d4594"
      },
      "source": [
        "class Stack:\n",
        "    def __init__(self):\n",
        "        self.items = []\n",
        "    def push(self, item):\n",
        "        \"\"\"Adds an item to the top of the stack.\"\"\"\n",
        "        self.items.append(item)\n",
        "    def pop(self):\n",
        "        \"\"\"Removes and returns the item from the top of the stack.\"\"\"\n",
        "        if not self.is_empty():\n",
        "            return self.items.pop()\n",
        "        else:\n",
        "            return \"Stack is empty\"\n",
        "    def peek(self):\n",
        "        \"\"\"Returns the item at the top of the stack without removing it.\"\"\"\n",
        "        if not self.is_empty():\n",
        "            return self.items[-1]\n",
        "        else:\n",
        "            return \"Stack is empty\"\n",
        "    def is_empty(self):\n",
        "        \"\"\"Checks if the stack is empty.\"\"\"\n",
        "        return len(self.items) == 0\n",
        "# Example usage with user input\n",
        "stack = Stack()\n",
        "while True:\n",
        "    print(\"\\nChoose an operation:\")\n",
        "    print(\"1. Push\")\n",
        "    print(\"2. Pop\")\n",
        "    print(\"3. Peek\")\n",
        "    print(\"4. Check if empty\")\n",
        "    print(\"5. Exit\")\n",
        "    choice = input(\"Enter your choice: \")\n",
        "    if choice == '1':\n",
        "        item = input(\"Enter the item to push: \")\n",
        "        stack.push(item)\n",
        "        print(f\"{item} pushed to stack.\")\n",
        "    elif choice == '2':\n",
        "        popped_item = stack.pop()\n",
        "        print(f\"Popped item: {popped_item}\")\n",
        "    elif choice == '3':\n",
        "        peeked_item = stack.peek()\n",
        "        print(f\"Top item: {peeked_item}\")\n",
        "    elif choice == '4':\n",
        "        if stack.is_empty():\n",
        "            print(\"Stack is empty.\")\n",
        "        else:\n",
        "            print(\"Stack is not empty.\")\n",
        "    elif choice == '5':\n",
        "        print(\"Exiting.\")\n",
        "        break\n",
        "    else:\n",
        "        print(\"Invalid choice. Please try again.\")"
      ],
      "execution_count": null,
      "outputs": [
        {
          "output_type": "stream",
          "name": "stdout",
          "text": [
            "\n",
            "Choose an operation:\n",
            "1. Push\n",
            "2. Pop\n",
            "3. Peek\n",
            "4. Check if empty\n",
            "5. Exit\n",
            "Enter your choice: 2\n",
            "Popped item: Stack is empty\n",
            "\n",
            "Choose an operation:\n",
            "1. Push\n",
            "2. Pop\n",
            "3. Peek\n",
            "4. Check if empty\n",
            "5. Exit\n",
            "Enter your choice: 5\n",
            "Exiting.\n"
          ]
        }
      ]
    },
    {
      "cell_type": "markdown",
      "source": [
        "TEXT - 02"
      ],
      "metadata": {
        "id": "oEGkKvXQ7ObG"
      }
    },
    {
      "cell_type": "code",
      "metadata": {
        "colab": {
          "base_uri": "https://localhost:8080/"
        },
        "id": "14c4f145",
        "outputId": "9ee83d34-7d7b-4e60-870f-a0431eebeb87"
      },
      "source": [
        "class Queue:\n",
        "    def __init__(self):\n",
        "        self.items = []\n",
        "    def enqueue(self, item):\n",
        "        \"\"\"Adds an item to the end of the queue.\"\"\"\n",
        "        self.items.append(item)\n",
        "        print(f\"{item} enqueued to the queue.\")\n",
        "    def dequeue(self):\n",
        "        \"\"\"Removes and returns the item from the front of the queue.\"\"\"\n",
        "        if not self.is_empty():\n",
        "            return self.items.pop(0)\n",
        "        else:\n",
        "            return \"Queue is empty\"\n",
        "    def is_empty(self):\n",
        "        \"\"\"Checks if the queue is empty.\"\"\"\n",
        "        return len(self.items) == 0\n",
        "# Example usage with user input\n",
        "queue = Queue()\n",
        "while True:\n",
        "    print(\"\\nChoose an operation:\")\n",
        "    print(\"1. Enqueue\")\n",
        "    print(\"2. Dequeue\")\n",
        "    print(\"3. Check if empty\")\n",
        "    print(\"4. Exit\")\n",
        "    choice = input(\"Enter your choice: \")\n",
        "    if choice == '1':\n",
        "        item = input(\"Enter the item to enqueue: \")\n",
        "        queue.enqueue(item)\n",
        "    elif choice == '2':\n",
        "        dequeued_item = queue.dequeue()\n",
        "        print(f\"Dequeued item: {dequeued_item}\")\n",
        "    elif choice == '3':\n",
        "        if queue.is_empty():\n",
        "            print(\"Queue is empty.\")\n",
        "        else:\n",
        "            print(\"Queue is not empty.\")\n",
        "    elif choice == '4':\n",
        "        print(\"Exiting.\")\n",
        "        break\n",
        "    else:\n",
        "        print(\"Invalid choice. Please try again.\")"
      ],
      "execution_count": null,
      "outputs": [
        {
          "output_type": "stream",
          "name": "stdout",
          "text": [
            "\n",
            "Choose an operation:\n",
            "1. Enqueue\n",
            "2. Dequeue\n",
            "3. Check if empty\n",
            "4. Exit\n",
            "Enter your choice: 3\n",
            "Queue is empty.\n",
            "\n",
            "Choose an operation:\n",
            "1. Enqueue\n",
            "2. Dequeue\n",
            "3. Check if empty\n",
            "4. Exit\n",
            "Enter your choice: 4\n",
            "Exiting.\n"
          ]
        }
      ]
    },
    {
      "cell_type": "markdown",
      "source": [
        "TEXT - 03"
      ],
      "metadata": {
        "id": "JAWND_3j798e"
      }
    },
    {
      "cell_type": "code",
      "metadata": {
        "colab": {
          "base_uri": "https://localhost:8080/"
        },
        "id": "7d2f17f6",
        "outputId": "82c08bf2-81fa-46b4-d7ce-869124401d68"
      },
      "source": [
        "class Node:\n",
        "    def __init__(self, data):\n",
        "        self.data = data\n",
        "        self.next = None\n",
        "class SinglyLinkedList:\n",
        "    def __init__(self):\n",
        "        self.head = None\n",
        "    def insert_at_beginning(self, data):\n",
        "        \"\"\"Inserts a new node at the beginning of the linked list.\"\"\"\n",
        "        new_node = Node(data)\n",
        "        new_node.next = self.head\n",
        "        self.head = new_node\n",
        "        print(f\"{data} inserted at the beginning.\")\n",
        "    def insert_at_end(self, data):\n",
        "        \"\"\"Inserts a new node at the end of the linked list.\"\"\"\n",
        "        new_node = Node(data)\n",
        "        if self.head is None:\n",
        "            self.head = new_node\n",
        "            print(f\"{data} inserted at the end.\")\n",
        "            return\n",
        "        last_node = self.head\n",
        "        while last_node.next:\n",
        "            last_node = last_node.next\n",
        "        last_node.next = new_node\n",
        "        print(f\"{data} inserted at the end.\")\n",
        "    def display(self):\n",
        "        \"\"\"Displays the elements of the linked list.\"\"\"\n",
        "        if self.head is None:\n",
        "            print(\"Linked list is empty.\")\n",
        "            return\n",
        "        current_node = self.head\n",
        "        print(\"Linked list:\", end=\" \")\n",
        "        while current_node:\n",
        "            print(current_node.data, end=\" -> \")\n",
        "            current_node = current_node.next\n",
        "        print(\"None\")\n",
        "# Example usage with user input\n",
        "linked_list = SinglyLinkedList()\n",
        "while True:\n",
        "    print(\"\\nChoose an operation:\")\n",
        "    print(\"1. Insert at beginning\")\n",
        "    print(\"2. Insert at end\")\n",
        "    print(\"3. Display\")\n",
        "    print(\"4. Exit\")\n",
        "    choice = input(\"Enter your choice: \")\n",
        "    if choice == '1':\n",
        "        data = input(\"Enter the data to insert at the beginning: \")\n",
        "        linked_list.insert_at_beginning(data)\n",
        "    elif choice == '2':\n",
        "        data = input(\"Enter the data to insert at the end: \")\n",
        "        linked_list.insert_at_end(data)\n",
        "    elif choice == '3':\n",
        "        linked_list.display()\n",
        "    elif choice == '4':\n",
        "        print(\"Exiting.\")\n",
        "        break\n",
        "    else:\n",
        "        print(\"Invalid choice. Please try again.\")"
      ],
      "execution_count": null,
      "outputs": [
        {
          "output_type": "stream",
          "name": "stdout",
          "text": [
            "\n",
            "Choose an operation:\n",
            "1. Insert at beginning\n",
            "2. Insert at end\n",
            "3. Display\n",
            "4. Exit\n",
            "Enter your choice: 3\n",
            "Linked list is empty.\n",
            "\n",
            "Choose an operation:\n",
            "1. Insert at beginning\n",
            "2. Insert at end\n",
            "3. Display\n",
            "4. Exit\n",
            "Enter your choice: 4\n",
            "Exiting.\n"
          ]
        }
      ]
    },
    {
      "cell_type": "markdown",
      "source": [
        "TEXT - 04"
      ],
      "metadata": {
        "id": "WX7B9Fuc8hbM"
      }
    },
    {
      "cell_type": "code",
      "metadata": {
        "colab": {
          "base_uri": "https://localhost:8080/"
        },
        "id": "f1c05cca",
        "outputId": "560d6491-77bb-42d5-af49-d5066e8f17ec"
      },
      "source": [
        "class Node:\n",
        "    def __init__(self, key):\n",
        "        self.left = None\n",
        "        self.right = None\n",
        "        self.key = key\n",
        "class BST:\n",
        "    def __init__(self):\n",
        "        self.root = None\n",
        "    def insert(self, key):\n",
        "        \"\"\"Inserts a new node with the given key into the BST.\"\"\"\n",
        "        self.root = self._insert_recursive(self.root, key)\n",
        "        print(f\"{key} inserted into the BST.\")\n",
        "    def _insert_recursive(self, root, key):\n",
        "        if root is None:\n",
        "            return Node(key)\n",
        "        if key < root.key:\n",
        "            root.left = self._insert_recursive(root.left, key)\n",
        "        else:\n",
        "            root.right = self._insert_recursive(root.right, key)\n",
        "        return root\n",
        "    def inorder_traversal(self):\n",
        "        \"\"\"Performs an inorder traversal of the BST and prints the elements.\"\"\"\n",
        "        print(\"Inorder Traversal:\", end=\" \")\n",
        "        self._inorder_traversal_recursive(self.root)\n",
        "        print()\n",
        "    def _inorder_traversal_recursive(self, root):\n",
        "        if root:\n",
        "            self._inorder_traversal_recursive(root.left)\n",
        "            print(root.key, end=\" \")\n",
        "            self._inorder_traversal_recursive(root.right)\n",
        "# Example usage with user input\n",
        "bst = BST()\n",
        "while True:\n",
        "    print(\"\\nChoose an operation:\")\n",
        "    print(\"1. Insert\")\n",
        "    print(\"2. Inorder Traversal\")\n",
        "    print(\"3. Exit\")\n",
        "    choice = input(\"Enter your choice: \")\n",
        "    if choice == '1':\n",
        "        try:\n",
        "            key = int(input(\"Enter the key to insert: \"))\n",
        "            bst.insert(key)\n",
        "        except ValueError:\n",
        "            print(\"Invalid input. Please enter an integer key.\")\n",
        "    elif choice == '2':\n",
        "        bst.inorder_traversal()\n",
        "    elif choice == '3':\n",
        "        print(\"Exiting.\")\n",
        "        break\n",
        "    else:\n",
        "        print(\"Invalid choice. Please try again.\")"
      ],
      "execution_count": null,
      "outputs": [
        {
          "output_type": "stream",
          "name": "stdout",
          "text": [
            "\n",
            "Choose an operation:\n",
            "1. Insert\n",
            "2. Inorder Traversal\n",
            "3. Exit\n",
            "Enter your choice: 2\n",
            "Inorder Traversal: \n",
            "\n",
            "Choose an operation:\n",
            "1. Insert\n",
            "2. Inorder Traversal\n",
            "3. Exit\n",
            "Enter your choice: 3\n",
            "Exiting.\n"
          ]
        }
      ]
    }
  ]
}